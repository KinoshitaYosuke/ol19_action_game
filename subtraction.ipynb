{
 "cells": [
  {
   "cell_type": "code",
   "execution_count": 12,
   "metadata": {},
   "outputs": [],
   "source": [
    "import cv2\n",
    "import numpy as np\n",
    "\n",
    "def main():\n",
    "\n",
    "    i = 0      # カウント変数\n",
    "    th = 30  # 差分画像の閾値\n",
    "    \n",
    "    #保存\n",
    "    fmt = cv2.VideoWriter_fourcc(*'MJPG')\n",
    "    writer = cv2.VideoWriter('outtest2.avi', fmt, 30.0, (640, 480))\n",
    "\n",
    "    # カメラのキャプチャ\n",
    "    #cap = cv2.VideoCapture(\"output_02.avi\")\n",
    "    cap = cv2.VideoCapture(0)\n",
    "    # 最初のフレームを背景画像に設定\n",
    "    ret, bg = cap.read()\n",
    "    #print(bg)\n",
    "    # グレースケール変換\n",
    "    #bg = cv2.cvtColor(bg, cv2.COLOR_BGR2RGB)\n",
    "    #bg = cv2.cvtColor(cap.read()[1], cv2.COLOR_RGB2GRAY)\n",
    "    #ret,bg=cap.read()\n",
    "    while(cap.isOpened()):\n",
    "        # フレームの取得\n",
    "        ret,frame = cap.read()\n",
    "        cv2.imshow(\"Frame\",frame)\n",
    "        # グレースケール変換\n",
    "        #gray = cv2.cvtColor(frame, cv2.COLOR_BGR2GRAY)\n",
    "        #ray = cv2.cvtColor(cap.read()[1], cv2.COLOR_RGB2GRAY)\n",
    "        #print(gray)\n",
    "        # 差分の絶対値を計算\n",
    "        \n",
    "        b = cv2.absdiff(frame[:,:,0],bg[:,:,0])\n",
    "        g = cv2.absdiff(frame[:,:,1],bg[:,:,1])\n",
    "        r = cv2.absdiff(frame[:,:,2],bg[:,:,2])\n",
    "        #mask = cv2.absdiff(gray, bg)\n",
    "        # 差分画像を二値化してマスク画像を算出\n",
    "        #mask[mask < th] = 0\n",
    "        #mask[mask >= th] = 255\n",
    "        g[g < th] = 0\n",
    "        g[g >= th] = 1\n",
    "        r[r < th] = 0\n",
    "        r[r >= th] = 1\n",
    "        b[b < th] = 0\n",
    "        b[b >= th] = 1\n",
    "        mask=g+r+b\n",
    "        mask[mask == 0]=0\n",
    "        mask[mask != 0]=255\n",
    "        frame[mask==0]=0\n",
    "        # フレームとマスク画像を表示\n",
    "        \n",
    "        if ret==True:\n",
    "            #frame = cv2.flip(frame,0)\n",
    "\n",
    "            # write the flipped frame\n",
    "            mask=cv2.cvtColor(mask,cv2.COLOR_GRAY2BGR)\n",
    "            writer.write(mask)\n",
    "            cv2.imshow(\"Mask\", mask)\n",
    "            cv2.imshow(\"Result\", frame)\n",
    "        \n",
    "        #i += 1    # カウントを1増やす\n",
    "        \n",
    "        # 背景画像の更新（一定間隔）\n",
    "        #if(i > 30):\n",
    "        #    ret, bg = cap.read()\n",
    "            #bg = cv2.cvtColor(bg, cv2.COLOR_BGR2GRAY) \n",
    "        #    i = 0 # カウント変数の初期化\n",
    "            \n",
    "        # qキーが押されたら途中終了\n",
    "        if cv2.waitKey(1) & 0xFF == ord('q'):\n",
    "            break\n",
    "\n",
    "    cap.release()\n",
    "    cv2.destroyAllWindows()\n",
    "\n",
    "\n",
    "if __name__ == '__main__':\n",
    "    main()"
   ]
  },
  {
   "cell_type": "code",
   "execution_count": 2,
   "metadata": {},
   "outputs": [
    {
     "ename": "NameError",
     "evalue": "name 'bg' is not defined",
     "output_type": "error",
     "traceback": [
      "\u001b[1;31m---------------------------------------------------------------------------\u001b[0m",
      "\u001b[1;31mNameError\u001b[0m                                 Traceback (most recent call last)",
      "\u001b[1;32m<ipython-input-2-fe7c47ecff0e>\u001b[0m in \u001b[0;36m<module>\u001b[1;34m\u001b[0m\n\u001b[1;32m----> 1\u001b[1;33m \u001b[0mbg\u001b[0m\u001b[1;33m\u001b[0m\u001b[1;33m\u001b[0m\u001b[0m\n\u001b[0m",
      "\u001b[1;31mNameError\u001b[0m: name 'bg' is not defined"
     ]
    }
   ],
   "source": [
    "bg"
   ]
  },
  {
   "cell_type": "code",
   "execution_count": 49,
   "metadata": {},
   "outputs": [
    {
     "ename": "IndexError",
     "evalue": "list index out of range",
     "output_type": "error",
     "traceback": [
      "\u001b[1;31m---------------------------------------------------------------------------\u001b[0m",
      "\u001b[1;31mIndexError\u001b[0m                                Traceback (most recent call last)",
      "\u001b[1;32m<ipython-input-49-c7f7483a944d>\u001b[0m in \u001b[0;36m<module>\u001b[1;34m\u001b[0m\n\u001b[1;32m----> 1\u001b[1;33m \u001b[0ma\u001b[0m\u001b[1;33m=\u001b[0m\u001b[1;33m[\u001b[0m\u001b[1;36m1\u001b[0m\u001b[1;33m]\u001b[0m\u001b[1;33m[\u001b[0m\u001b[1;36m1\u001b[0m\u001b[1;33m]\u001b[0m\u001b[1;33m\u001b[0m\u001b[1;33m\u001b[0m\u001b[0m\n\u001b[0m\u001b[0;32m      2\u001b[0m \u001b[0mb\u001b[0m\u001b[1;33m=\u001b[0m\u001b[1;33m[\u001b[0m\u001b[1;36m2\u001b[0m\u001b[1;33m]\u001b[0m\u001b[1;33m[\u001b[0m\u001b[1;36m2\u001b[0m\u001b[1;33m]\u001b[0m\u001b[1;33m\u001b[0m\u001b[1;33m\u001b[0m\u001b[0m\n\u001b[0;32m      3\u001b[0m \u001b[0mc\u001b[0m\u001b[1;33m=\u001b[0m\u001b[1;33m[\u001b[0m\u001b[1;36m3\u001b[0m\u001b[1;33m]\u001b[0m\u001b[1;33m[\u001b[0m\u001b[1;36m3\u001b[0m\u001b[1;33m]\u001b[0m\u001b[1;33m\u001b[0m\u001b[1;33m\u001b[0m\u001b[0m\n\u001b[0;32m      4\u001b[0m \u001b[0md\u001b[0m\u001b[1;33m=\u001b[0m\u001b[0mnumpy\u001b[0m\u001b[1;33m.\u001b[0m\u001b[0mstack\u001b[0m\u001b[1;33m(\u001b[0m\u001b[0ma\u001b[0m\u001b[1;33m,\u001b[0m\u001b[0mb\u001b[0m\u001b[1;33m,\u001b[0m\u001b[0mc\u001b[0m\u001b[1;33m)\u001b[0m\u001b[1;33m\u001b[0m\u001b[1;33m\u001b[0m\u001b[0m\n",
      "\u001b[1;31mIndexError\u001b[0m: list index out of range"
     ]
    }
   ],
   "source": []
  },
  {
   "cell_type": "code",
   "execution_count": null,
   "metadata": {},
   "outputs": [],
   "source": []
  }
 ],
 "metadata": {
  "kernelspec": {
   "display_name": "Python 3",
   "language": "python",
   "name": "python3"
  },
  "language_info": {
   "codemirror_mode": {
    "name": "ipython",
    "version": 3
   },
   "file_extension": ".py",
   "mimetype": "text/x-python",
   "name": "python",
   "nbconvert_exporter": "python",
   "pygments_lexer": "ipython3",
   "version": "3.7.3"
  }
 },
 "nbformat": 4,
 "nbformat_minor": 2
}
